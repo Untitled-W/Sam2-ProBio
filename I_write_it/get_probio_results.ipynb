{
 "cells": [
  {
   "cell_type": "code",
   "execution_count": null,
   "metadata": {},
   "outputs": [],
   "source": [
    "# 如何把视频喂到sam2里面\n",
    "# 如何保存预测结果并转换格式"
   ]
  }
 ],
 "metadata": {
  "language_info": {
   "name": "python"
  }
 },
 "nbformat": 4,
 "nbformat_minor": 2
}
